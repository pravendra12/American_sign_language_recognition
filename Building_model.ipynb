{
 "cells": [
  {
   "cell_type": "code",
   "execution_count": 27,
   "metadata": {},
   "outputs": [],
   "source": [
    "import tensorflow as tf\n",
    "import os\n",
    "import mediapipe as mp\n",
    "import pickle\n",
    "import numpy as np\n",
    "from tensorflow import keras\n",
    "from keras import layers\n",
    "from keras.layers import Dropout\n",
    "from sklearn.model_selection import train_test_split\n",
    "from sklearn.preprocessing import StandardScaler\n",
    "from sklearn.metrics import accuracy_score\n",
    "import keras_tuner\n",
    "from keras_tuner.tuners import RandomSearch\n",
    "from sklearn.utils import shuffle"
   ]
  },
  {
   "attachments": {},
   "cell_type": "markdown",
   "metadata": {},
   "source": [
    "Import the data using pickle"
   ]
  },
  {
   "cell_type": "code",
   "execution_count": 28,
   "metadata": {},
   "outputs": [],
   "source": [
    "data_dict = pickle.load(open('./data1.pickle','rb'))\n",
    "data = data_dict['data']\n",
    "labels = data_dict['labels']\n",
    "data, labels = shuffle(data, labels)"
   ]
  },
  {
   "cell_type": "code",
   "execution_count": 29,
   "metadata": {},
   "outputs": [],
   "source": [
    "unwanted = []\n",
    "for i in range(len(data)):\n",
    "    if(len(data[i]) !=42):\n",
    "        unwanted.append(i)\n",
    "ele = unwanted[0]\n",
    "del data[ele]\n",
    "del labels[ele]\n",
    "data = np.asarray(data)\n",
    "labels = np.asarray(labels)"
   ]
  },
  {
   "cell_type": "code",
   "execution_count": 30,
   "metadata": {},
   "outputs": [],
   "source": [
    "proper_label = {}\n",
    "for i in range(37):\n",
    "    proper_label[str(i)] = i"
   ]
  },
  {
   "cell_type": "code",
   "execution_count": 31,
   "metadata": {},
   "outputs": [],
   "source": [
    "temp = []\n",
    "for i in labels:\n",
    "    temp.append(proper_label[i])\n",
    "temp = np.array(temp)"
   ]
  },
  {
   "attachments": {},
   "cell_type": "markdown",
   "metadata": {},
   "source": [
    "Creating Neural network followed by data augmentation"
   ]
  },
  {
   "cell_type": "code",
   "execution_count": 32,
   "metadata": {},
   "outputs": [],
   "source": [
    "def build_model(hp):\n",
    "    model = keras.Sequential()\n",
    "    \n",
    "    hp_units1 = hp.Int('units1', min_value=32, max_value=512, step=32)\n",
    "    model.add(layers.Dense(units=hp_units1, activation='relu',input_shape = (42,)))\n",
    "\n",
    "    hp_units2 = hp.Int('units2', min_value=32, max_value=512, step=32)\n",
    "    model.add(layers.Dense(units=hp_units2, activation='relu'))\n",
    "\n",
    "    hp_learning_rate = hp.Choice('learning_rate', values=[0.01, 0.001, 0.0001])\n",
    "    \n",
    "    model.add(layers.Dense(37, activation='softmax'))\n",
    "    \n",
    "    model.compile(optimizer=keras.optimizers.Adam(learning_rate=hp_learning_rate),\n",
    "                  loss='sparse_categorical_crossentropy',\n",
    "                  metrics=['accuracy'])\n",
    "    \n",
    "    return model"
   ]
  },
  {
   "cell_type": "code",
   "execution_count": 33,
   "metadata": {},
   "outputs": [],
   "source": [
    "tuner = RandomSearch(\n",
    "    build_model,\n",
    "    objective='val_accuracy',\n",
    "    max_trials=5,\n",
    "    executions_per_trial=3,\n",
    "    directory=r'C:\\Users\\Anirudh Sai\\Desktop\\Project_P',\n",
    "    project_name='ASL_Project')"
   ]
  },
  {
   "cell_type": "code",
   "execution_count": 34,
   "metadata": {},
   "outputs": [
    {
     "name": "stdout",
     "output_type": "stream",
     "text": [
      "Search space summary\n",
      "Default search space size: 3\n",
      "units1 (Int)\n",
      "{'default': None, 'conditions': [], 'min_value': 32, 'max_value': 512, 'step': 32, 'sampling': 'linear'}\n",
      "units2 (Int)\n",
      "{'default': None, 'conditions': [], 'min_value': 32, 'max_value': 512, 'step': 32, 'sampling': 'linear'}\n",
      "learning_rate (Choice)\n",
      "{'default': 0.01, 'conditions': [], 'values': [0.01, 0.001, 0.0001], 'ordered': True}\n"
     ]
    }
   ],
   "source": [
    "tuner.search_space_summary()"
   ]
  },
  {
   "cell_type": "code",
   "execution_count": 35,
   "metadata": {},
   "outputs": [
    {
     "name": "stdout",
     "output_type": "stream",
     "text": [
      "Trial 5 Complete [00h 01m 58s]\n",
      "val_accuracy: 0.9718987743059794\n",
      "\n",
      "Best val_accuracy So Far: 0.997205396493276\n",
      "Total elapsed time: 00h 10m 59s\n",
      "INFO:tensorflow:Oracle triggered exit\n"
     ]
    }
   ],
   "source": [
    "tuner.search(data, temp,epochs = 20, validation_split = 0.2,batch_size = 30)"
   ]
  },
  {
   "cell_type": "code",
   "execution_count": 36,
   "metadata": {},
   "outputs": [
    {
     "name": "stdout",
     "output_type": "stream",
     "text": [
      "Results summary\n",
      "Results in C:\\Users\\Anirudh Sai\\Desktop\\Project_P\\ASL_Project\n",
      "Showing 10 best trials\n",
      "Objective(name=\"val_accuracy\", direction=\"max\")\n",
      "\n",
      "Trial 2 summary\n",
      "Hyperparameters:\n",
      "units1: 384\n",
      "units2: 320\n",
      "learning_rate: 0.001\n",
      "Score: 0.997205396493276\n",
      "\n",
      "Trial 3 summary\n",
      "Hyperparameters:\n",
      "units1: 288\n",
      "units2: 448\n",
      "learning_rate: 0.001\n",
      "Score: 0.9965843756993612\n",
      "\n",
      "Trial 0 summary\n",
      "Hyperparameters:\n",
      "units1: 384\n",
      "units2: 32\n",
      "learning_rate: 0.001\n",
      "Score: 0.9936862786610922\n",
      "\n",
      "Trial 4 summary\n",
      "Hyperparameters:\n",
      "units1: 128\n",
      "units2: 160\n",
      "learning_rate: 0.0001\n",
      "Score: 0.9718987743059794\n",
      "\n",
      "Trial 1 summary\n",
      "Hyperparameters:\n",
      "units1: 32\n",
      "units2: 480\n",
      "learning_rate: 0.0001\n",
      "Score: 0.9655332962671915\n"
     ]
    }
   ],
   "source": [
    "tuner.results_summary()"
   ]
  },
  {
   "cell_type": "code",
   "execution_count": 37,
   "metadata": {},
   "outputs": [
    {
     "name": "stdout",
     "output_type": "stream",
     "text": [
      "Epoch 1/40\n",
      "1289/1289 [==============================] - 4s 3ms/step - loss: 0.6961 - accuracy: 0.8038 - val_loss: 0.1682 - val_accuracy: 0.9677\n",
      "Epoch 2/40\n",
      "1289/1289 [==============================] - 3s 3ms/step - loss: 0.1438 - accuracy: 0.9605 - val_loss: 0.0910 - val_accuracy: 0.9803\n",
      "Epoch 3/40\n",
      "1289/1289 [==============================] - 4s 3ms/step - loss: 0.0930 - accuracy: 0.9735 - val_loss: 0.0748 - val_accuracy: 0.9786\n",
      "Epoch 4/40\n",
      "1289/1289 [==============================] - 3s 2ms/step - loss: 0.0719 - accuracy: 0.9800 - val_loss: 0.0456 - val_accuracy: 0.9885\n",
      "Epoch 5/40\n",
      "1289/1289 [==============================] - 4s 3ms/step - loss: 0.0555 - accuracy: 0.9847 - val_loss: 0.0516 - val_accuracy: 0.9868\n",
      "Epoch 6/40\n",
      "1289/1289 [==============================] - 4s 3ms/step - loss: 0.0514 - accuracy: 0.9851 - val_loss: 0.0285 - val_accuracy: 0.9927\n",
      "Epoch 7/40\n",
      "1289/1289 [==============================] - 3s 3ms/step - loss: 0.0413 - accuracy: 0.9880 - val_loss: 0.0489 - val_accuracy: 0.9843\n",
      "Epoch 8/40\n",
      "1289/1289 [==============================] - 3s 3ms/step - loss: 0.0381 - accuracy: 0.9891 - val_loss: 0.0391 - val_accuracy: 0.9894\n",
      "Epoch 9/40\n",
      "1289/1289 [==============================] - 4s 3ms/step - loss: 0.0321 - accuracy: 0.9908 - val_loss: 0.0223 - val_accuracy: 0.9947\n",
      "Epoch 10/40\n",
      "1289/1289 [==============================] - 3s 3ms/step - loss: 0.0311 - accuracy: 0.9907 - val_loss: 0.0238 - val_accuracy: 0.9935\n",
      "Epoch 11/40\n",
      "1289/1289 [==============================] - 3s 3ms/step - loss: 0.0250 - accuracy: 0.9922 - val_loss: 0.0432 - val_accuracy: 0.9862\n",
      "Epoch 12/40\n",
      "1289/1289 [==============================] - 3s 3ms/step - loss: 0.0278 - accuracy: 0.9919 - val_loss: 0.0648 - val_accuracy: 0.9803\n",
      "Epoch 13/40\n",
      "1289/1289 [==============================] - 3s 3ms/step - loss: 0.0226 - accuracy: 0.9936 - val_loss: 0.0166 - val_accuracy: 0.9957\n",
      "Epoch 14/40\n",
      "1289/1289 [==============================] - 4s 3ms/step - loss: 0.0199 - accuracy: 0.9947 - val_loss: 0.0171 - val_accuracy: 0.9964\n",
      "Epoch 15/40\n",
      "1289/1289 [==============================] - 4s 3ms/step - loss: 0.0231 - accuracy: 0.9936 - val_loss: 0.0345 - val_accuracy: 0.9898\n",
      "Epoch 16/40\n",
      "1289/1289 [==============================] - 4s 3ms/step - loss: 0.0182 - accuracy: 0.9943 - val_loss: 0.0144 - val_accuracy: 0.9972\n",
      "Epoch 17/40\n",
      "1289/1289 [==============================] - 3s 3ms/step - loss: 0.0131 - accuracy: 0.9962 - val_loss: 0.0135 - val_accuracy: 0.9967\n",
      "Epoch 18/40\n",
      "1289/1289 [==============================] - 3s 3ms/step - loss: 0.0168 - accuracy: 0.9944 - val_loss: 0.0115 - val_accuracy: 0.9972\n",
      "Epoch 19/40\n",
      "1289/1289 [==============================] - 3s 3ms/step - loss: 0.0127 - accuracy: 0.9961 - val_loss: 0.0145 - val_accuracy: 0.9955\n",
      "Epoch 20/40\n",
      "1289/1289 [==============================] - 3s 2ms/step - loss: 0.0148 - accuracy: 0.9952 - val_loss: 0.0282 - val_accuracy: 0.9902\n",
      "Epoch 21/40\n",
      "1289/1289 [==============================] - 3s 3ms/step - loss: 0.0117 - accuracy: 0.9965 - val_loss: 0.0130 - val_accuracy: 0.9969\n",
      "Epoch 22/40\n",
      "1289/1289 [==============================] - 3s 3ms/step - loss: 0.0125 - accuracy: 0.9960 - val_loss: 0.0224 - val_accuracy: 0.9939\n",
      "Epoch 23/40\n",
      "1289/1289 [==============================] - 3s 3ms/step - loss: 0.0117 - accuracy: 0.9968 - val_loss: 0.0171 - val_accuracy: 0.9944\n",
      "Epoch 24/40\n",
      "1289/1289 [==============================] - 3s 3ms/step - loss: 0.0117 - accuracy: 0.9964 - val_loss: 0.0113 - val_accuracy: 0.9967\n",
      "Epoch 25/40\n",
      "1289/1289 [==============================] - 3s 3ms/step - loss: 0.0139 - accuracy: 0.9962 - val_loss: 0.0096 - val_accuracy: 0.9974\n",
      "Epoch 26/40\n",
      "1289/1289 [==============================] - 4s 3ms/step - loss: 0.0092 - accuracy: 0.9970 - val_loss: 0.0133 - val_accuracy: 0.9967\n",
      "Epoch 27/40\n",
      "1289/1289 [==============================] - 3s 2ms/step - loss: 0.0104 - accuracy: 0.9970 - val_loss: 0.0132 - val_accuracy: 0.9971\n",
      "Epoch 28/40\n",
      "1289/1289 [==============================] - 3s 3ms/step - loss: 0.0104 - accuracy: 0.9968 - val_loss: 0.0089 - val_accuracy: 0.9981\n",
      "Epoch 29/40\n",
      "1289/1289 [==============================] - 3s 3ms/step - loss: 0.0095 - accuracy: 0.9972 - val_loss: 0.0142 - val_accuracy: 0.9958\n",
      "Epoch 30/40\n",
      "1289/1289 [==============================] - 4s 3ms/step - loss: 0.0101 - accuracy: 0.9967 - val_loss: 0.0119 - val_accuracy: 0.9972\n",
      "Epoch 31/40\n",
      "1289/1289 [==============================] - 3s 3ms/step - loss: 0.0082 - accuracy: 0.9976 - val_loss: 0.0116 - val_accuracy: 0.9971\n",
      "Epoch 32/40\n",
      "1289/1289 [==============================] - 3s 3ms/step - loss: 0.0077 - accuracy: 0.9976 - val_loss: 0.0187 - val_accuracy: 0.9946\n",
      "Epoch 33/40\n",
      "1289/1289 [==============================] - 4s 3ms/step - loss: 0.0077 - accuracy: 0.9975 - val_loss: 0.0144 - val_accuracy: 0.9972\n",
      "Epoch 34/40\n",
      "1289/1289 [==============================] - 3s 3ms/step - loss: 0.0124 - accuracy: 0.9965 - val_loss: 0.0065 - val_accuracy: 0.9986\n",
      "Epoch 35/40\n",
      "1289/1289 [==============================] - 3s 2ms/step - loss: 0.0057 - accuracy: 0.9986 - val_loss: 0.0082 - val_accuracy: 0.9986\n",
      "Epoch 36/40\n",
      "1289/1289 [==============================] - 3s 3ms/step - loss: 0.0050 - accuracy: 0.9987 - val_loss: 0.0079 - val_accuracy: 0.9988\n",
      "Epoch 37/40\n",
      "1289/1289 [==============================] - 3s 3ms/step - loss: 0.0084 - accuracy: 0.9979 - val_loss: 0.0150 - val_accuracy: 0.9960\n",
      "Epoch 38/40\n",
      "1289/1289 [==============================] - 3s 3ms/step - loss: 0.0084 - accuracy: 0.9976 - val_loss: 0.0127 - val_accuracy: 0.9969\n",
      "Epoch 39/40\n",
      "1289/1289 [==============================] - 4s 3ms/step - loss: 0.0086 - accuracy: 0.9972 - val_loss: 0.0108 - val_accuracy: 0.9980\n",
      "Epoch 40/40\n",
      "1289/1289 [==============================] - 3s 3ms/step - loss: 0.0048 - accuracy: 0.9987 - val_loss: 0.0495 - val_accuracy: 0.9862\n"
     ]
    },
    {
     "data": {
      "text/plain": [
       "<keras.callbacks.History at 0x19b662d9780>"
      ]
     },
     "execution_count": 37,
     "metadata": {},
     "output_type": "execute_result"
    }
   ],
   "source": [
    "model1 = keras.Sequential()\n",
    "model1.add(keras.layers.Dense(units = 384, activation  = 'relu',input_shape = (42,) ))\n",
    "model1.add(keras.layers.Dense(units = 320, activation  = 'relu'))\n",
    "model1.add(layers.Dense(37, activation='softmax'))\n",
    "model1.compile(optimizer=keras.optimizers.Adam(learning_rate=0.001),\n",
    "            loss='sparse_categorical_crossentropy',\n",
    "            metrics=['accuracy'])\n",
    "model1.fit(data, temp,validation_split = 0.2,epochs=40,batch_size = 20)"
   ]
  },
  {
   "cell_type": "code",
   "execution_count": 26,
   "metadata": {},
   "outputs": [],
   "source": [
    "model1.save('model1.h5')"
   ]
  }
 ],
 "metadata": {
  "kernelspec": {
   "display_name": "Python 3",
   "language": "python",
   "name": "python3"
  },
  "language_info": {
   "codemirror_mode": {
    "name": "ipython",
    "version": 3
   },
   "file_extension": ".py",
   "mimetype": "text/x-python",
   "name": "python",
   "nbconvert_exporter": "python",
   "pygments_lexer": "ipython3",
   "version": "3.10.11"
  },
  "orig_nbformat": 4
 },
 "nbformat": 4,
 "nbformat_minor": 2
}
